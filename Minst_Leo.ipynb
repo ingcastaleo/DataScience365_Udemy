{
 "cells": [
  {
   "attachments": {},
   "cell_type": "markdown",
   "metadata": {},
   "source": [
    "### Loading libraries"
   ]
  },
  {
   "cell_type": "code",
   "execution_count": 54,
   "metadata": {},
   "outputs": [],
   "source": [
    "import numpy as np\n",
    "import tensorflow as tf\n",
    "import tensorflow_datasets as tfds\n",
    "import matplotlib.pyplot as plt\n",
    "import seaborn as sns\n",
    "sns.set()\n"
   ]
  },
  {
   "attachments": {},
   "cell_type": "markdown",
   "metadata": {},
   "source": [
    "### Loading Mnist dataset and segmenting it"
   ]
  },
  {
   "cell_type": "code",
   "execution_count": 36,
   "metadata": {},
   "outputs": [],
   "source": [
    "mnist_dataset, mnist_info = tfds.load(name=\"mnist\", with_info=True, as_supervised=True)\n",
    "\n",
    "mnist_train, mnist_test = mnist_dataset[\"train\"], mnist_dataset[\"test\"]\n",
    "\n",
    "num_validation_samples = 0.1 * mnist_info.splits['train'].num_examples # Get number of samples for validation (10% of training dataset)\n",
    "num_validation_samples = tf.cast(num_validation_samples,tf.int64)      # Cast the number of samples for validation as int64\n",
    "\n",
    "num_test_samples = mnist_info.splits['test'].num_examples  # Get number of samples for testing\n",
    "num_test_samples = tf.cast(num_test_samples,tf.int64)      # Cast the number of samples for testing as int64\n",
    "\n",
    "def scale(image,label):\n",
    "    image = tf.cast(image, tf.float32) # Cast data as float32\n",
    "    image /= 255.   # Divide over 255 and cast it as float32\n",
    "    return image, label\n",
    "\n",
    "scaled_train_and_validation_data = mnist_train.map(scale)\n",
    "scaled_test_data = mnist_test.map(scale)"
   ]
  },
  {
   "attachments": {},
   "cell_type": "markdown",
   "metadata": {},
   "source": [
    "### Shuffle the data"
   ]
  },
  {
   "cell_type": "code",
   "execution_count": 37,
   "metadata": {},
   "outputs": [],
   "source": [
    "BUFFER_SIZE = 10000 #Use at most 10000 samples at a time\n",
    "\n",
    "shuffled_train_and_validation_data = scaled_train_and_validation_data.shuffle(BUFFER_SIZE)\n",
    "\n",
    "validation_data = shuffled_train_and_validation_data.take(num_validation_samples)\n",
    "train_data = shuffled_train_and_validation_data.skip(num_validation_samples)"
   ]
  },
  {
   "attachments": {},
   "cell_type": "markdown",
   "metadata": {},
   "source": [
    "### Set the batch size\n",
    "\n",
    "\n",
    "Batch size = 1 --> Stochastic Gradient Descent (SGD)\n",
    "\n",
    "Batch size = #Samples --> Single Batch (GD)\n",
    "\n",
    "1 < Batch size < #Samples --> Mini-batch (GD)"
   ]
  },
  {
   "cell_type": "code",
   "execution_count": 16,
   "metadata": {},
   "outputs": [],
   "source": [
    "BATCH_SIZE = 100\n",
    "\n",
    "train_data = train_data.batch(BATCH_SIZE)\n",
    "validation_data = validation_data.batch(num_validation_samples)\n",
    "test_data = scaled_test_data.batch(num_test_samples)\n",
    "\n",
    "validation_inputs, validation_targets = next(iter(validation_data))"
   ]
  },
  {
   "attachments": {},
   "cell_type": "markdown",
   "metadata": {},
   "source": [
    "### Outlining the module"
   ]
  },
  {
   "attachments": {},
   "cell_type": "markdown",
   "metadata": {},
   "source": [
    "Creating the model"
   ]
  },
  {
   "cell_type": "code",
   "execution_count": 25,
   "metadata": {},
   "outputs": [],
   "source": [
    "input_size = 784\n",
    "output_size = 10\n",
    "hidden_layer_size = 50\n",
    "\n",
    "model = tf.keras.Sequential([\n",
    "                                tf.keras.layers.Flatten(input_shape = (28,28,1)),\n",
    "                                tf.keras.layers.Dense(hidden_layer_size, activation='relu'),    #Input layer tp hidden layer 1\n",
    "                                tf.keras.layers.Dense(hidden_layer_size, activation='relu'),    #Hidden layer 1 to hidden layer 2\n",
    "                                tf.keras.layers.Dense(output_size, activation='softmax'),    #Hidden layer 2 to Output layer \n",
    "                            ])"
   ]
  },
  {
   "attachments": {},
   "cell_type": "markdown",
   "metadata": {},
   "source": [
    "Choosing optimizer and loss function\n",
    "\n",
    "- binary_crossentropy --> Data with binary encoder\n",
    "- categorical_crossentropy --> Data has encoded with one-hot encoder\n",
    "- sparse_categorical_crossentropy --> Applies one-hot encoder "
   ]
  },
  {
   "cell_type": "code",
   "execution_count": 26,
   "metadata": {},
   "outputs": [],
   "source": [
    "model.compile(optimizer = 'adam', loss = 'sparse_categorical_crossentropy', metrics = ['accuracy'])"
   ]
  },
  {
   "attachments": {},
   "cell_type": "markdown",
   "metadata": {},
   "source": [
    "### Training"
   ]
  },
  {
   "cell_type": "code",
   "execution_count": 27,
   "metadata": {},
   "outputs": [
    {
     "name": "stdout",
     "output_type": "stream",
     "text": [
      "Epoch 1/5\n",
      "540/540 - 1s - loss: 0.4177 - accuracy: 0.8824 - val_loss: 0.2208 - val_accuracy: 0.9392 - 1s/epoch - 2ms/step\n",
      "Epoch 2/5\n",
      "540/540 - 1s - loss: 0.1904 - accuracy: 0.9449 - val_loss: 0.1561 - val_accuracy: 0.9553 - 669ms/epoch - 1ms/step\n",
      "Epoch 3/5\n",
      "540/540 - 1s - loss: 0.1454 - accuracy: 0.9563 - val_loss: 0.1178 - val_accuracy: 0.9670 - 663ms/epoch - 1ms/step\n",
      "Epoch 4/5\n",
      "540/540 - 1s - loss: 0.1160 - accuracy: 0.9656 - val_loss: 0.1035 - val_accuracy: 0.9708 - 669ms/epoch - 1ms/step\n",
      "Epoch 5/5\n",
      "540/540 - 1s - loss: 0.0965 - accuracy: 0.9714 - val_loss: 0.0879 - val_accuracy: 0.9737 - 664ms/epoch - 1ms/step\n"
     ]
    },
    {
     "data": {
      "text/plain": [
       "<keras.src.callbacks.History at 0x27faf55c810>"
      ]
     },
     "execution_count": 27,
     "metadata": {},
     "output_type": "execute_result"
    }
   ],
   "source": [
    "NUM_EPOCHS = 5\n",
    "\n",
    "model.fit(  train_data, \n",
    "            epochs = NUM_EPOCHS, \n",
    "            validation_data = (validation_inputs, validation_targets), \n",
    "            verbose = 2 \n",
    "            )"
   ]
  },
  {
   "cell_type": "markdown",
   "metadata": {},
   "source": [
    "### Same problem Higher Width (1000)\n",
    "\n",
    "The validation accuracy is marginally superior than the obtained with the former model. \n",
    "At the last epoch, it tends to overfit\n",
    "Significantly slower"
   ]
  },
  {
   "cell_type": "code",
   "execution_count": 29,
   "metadata": {},
   "outputs": [
    {
     "name": "stdout",
     "output_type": "stream",
     "text": [
      "Epoch 1/5\n",
      "540/540 - 8s - loss: 0.1945 - accuracy: 0.9407 - val_loss: 0.1020 - val_accuracy: 0.9702 - 8s/epoch - 14ms/step\n",
      "Epoch 2/5\n",
      "540/540 - 7s - loss: 0.0757 - accuracy: 0.9761 - val_loss: 0.0662 - val_accuracy: 0.9790 - 7s/epoch - 14ms/step\n",
      "Epoch 3/5\n",
      "540/540 - 7s - loss: 0.0500 - accuracy: 0.9838 - val_loss: 0.0507 - val_accuracy: 0.9850 - 7s/epoch - 13ms/step\n",
      "Epoch 4/5\n",
      "540/540 - 7s - loss: 0.0371 - accuracy: 0.9885 - val_loss: 0.0592 - val_accuracy: 0.9842 - 7s/epoch - 13ms/step\n",
      "Epoch 5/5\n",
      "540/540 - 7s - loss: 0.0317 - accuracy: 0.9900 - val_loss: 0.0543 - val_accuracy: 0.9825 - 7s/epoch - 14ms/step\n"
     ]
    },
    {
     "data": {
      "text/plain": [
       "<keras.src.callbacks.History at 0x27fb0e7cfd0>"
      ]
     },
     "execution_count": 29,
     "metadata": {},
     "output_type": "execute_result"
    }
   ],
   "source": [
    "input_size = 784\n",
    "output_size = 10\n",
    "hidden_layer_size = 1000\n",
    "\n",
    "model = tf.keras.Sequential([\n",
    "                                tf.keras.layers.Flatten(input_shape = (28,28,1)),\n",
    "                                tf.keras.layers.Dense(hidden_layer_size, activation='relu'),    #Input layer tp hidden layer 1\n",
    "                                tf.keras.layers.Dense(hidden_layer_size, activation='relu'),    #Hidden layer 1 to hidden layer 2\n",
    "                                tf.keras.layers.Dense(output_size, activation='softmax'),    #Hidden layer 2 to Output layer \n",
    "                            ])\n",
    "model.compile(optimizer = 'adam', loss = 'sparse_categorical_crossentropy', metrics = ['accuracy'])\n",
    "\n",
    "NUM_EPOCHS = 5\n",
    "\n",
    "model.fit(  train_data, \n",
    "            epochs = NUM_EPOCHS, \n",
    "            validation_data = (validation_inputs, validation_targets), \n",
    "            verbose = 2 \n",
    "            )"
   ]
  },
  {
   "cell_type": "markdown",
   "metadata": {},
   "source": [
    "### Same problem Deeper (3 hidden layers)\n",
    "\n",
    "The validation accuracy is the same gotten with two hidden layers"
   ]
  },
  {
   "cell_type": "code",
   "execution_count": 30,
   "metadata": {},
   "outputs": [
    {
     "name": "stdout",
     "output_type": "stream",
     "text": [
      "Epoch 1/5\n",
      "540/540 - 1s - loss: 0.4117 - accuracy: 0.8803 - val_loss: 0.1900 - val_accuracy: 0.9485 - 1s/epoch - 3ms/step\n",
      "Epoch 2/5\n",
      "540/540 - 1s - loss: 0.1699 - accuracy: 0.9501 - val_loss: 0.1356 - val_accuracy: 0.9630 - 693ms/epoch - 1ms/step\n",
      "Epoch 3/5\n",
      "540/540 - 1s - loss: 0.1276 - accuracy: 0.9622 - val_loss: 0.1106 - val_accuracy: 0.9658 - 688ms/epoch - 1ms/step\n",
      "Epoch 4/5\n",
      "540/540 - 1s - loss: 0.1051 - accuracy: 0.9681 - val_loss: 0.1018 - val_accuracy: 0.9695 - 700ms/epoch - 1ms/step\n",
      "Epoch 5/5\n",
      "540/540 - 1s - loss: 0.0897 - accuracy: 0.9731 - val_loss: 0.0764 - val_accuracy: 0.9780 - 682ms/epoch - 1ms/step\n"
     ]
    },
    {
     "data": {
      "text/plain": [
       "<keras.src.callbacks.History at 0x27fbc38b750>"
      ]
     },
     "execution_count": 30,
     "metadata": {},
     "output_type": "execute_result"
    }
   ],
   "source": [
    "input_size = 784\n",
    "output_size = 10\n",
    "hidden_layer_size = 50\n",
    "\n",
    "model = tf.keras.Sequential([\n",
    "                                tf.keras.layers.Flatten(input_shape = (28,28,1)),\n",
    "                                tf.keras.layers.Dense(hidden_layer_size, activation='relu'),    #Input layer tp hidden layer 1\n",
    "                                tf.keras.layers.Dense(hidden_layer_size, activation='relu'),    #Hidden layer 1 to hidden layer 2\n",
    "                                tf.keras.layers.Dense(hidden_layer_size, activation='relu'),    #Hidden layer 2 to hidden layer 3\n",
    "                                tf.keras.layers.Dense(output_size, activation='softmax'),    #Hidden layer 3 to Output layer \n",
    "                            ])\n",
    "model.compile(optimizer = 'adam', loss = 'sparse_categorical_crossentropy', metrics = ['accuracy'])\n",
    "\n",
    "NUM_EPOCHS = 5\n",
    "\n",
    "model.fit(  train_data, \n",
    "            epochs = NUM_EPOCHS, \n",
    "            validation_data = (validation_inputs, validation_targets), \n",
    "            verbose = 2 \n",
    "            )"
   ]
  },
  {
   "cell_type": "markdown",
   "metadata": {},
   "source": [
    "### Same problem with change in action function (sigmoid)\n",
    "\n",
    "Sigmoid gives a lower performance and slower increase in accuracy"
   ]
  },
  {
   "cell_type": "code",
   "execution_count": 31,
   "metadata": {},
   "outputs": [
    {
     "name": "stdout",
     "output_type": "stream",
     "text": [
      "Epoch 1/5\n",
      "540/540 - 1s - loss: 1.0307 - accuracy: 0.7672 - val_loss: 0.4464 - val_accuracy: 0.8918 - 1s/epoch - 2ms/step\n",
      "Epoch 2/5\n",
      "540/540 - 1s - loss: 0.3416 - accuracy: 0.9106 - val_loss: 0.2709 - val_accuracy: 0.9302 - 665ms/epoch - 1ms/step\n",
      "Epoch 3/5\n",
      "540/540 - 1s - loss: 0.2445 - accuracy: 0.9308 - val_loss: 0.2155 - val_accuracy: 0.9403 - 667ms/epoch - 1ms/step\n",
      "Epoch 4/5\n",
      "540/540 - 1s - loss: 0.2003 - accuracy: 0.9431 - val_loss: 0.1825 - val_accuracy: 0.9495 - 667ms/epoch - 1ms/step\n",
      "Epoch 5/5\n",
      "540/540 - 1s - loss: 0.1707 - accuracy: 0.9504 - val_loss: 0.1555 - val_accuracy: 0.9567 - 671ms/epoch - 1ms/step\n"
     ]
    },
    {
     "data": {
      "text/plain": [
       "<keras.src.callbacks.History at 0x27fbcccf090>"
      ]
     },
     "execution_count": 31,
     "metadata": {},
     "output_type": "execute_result"
    }
   ],
   "source": [
    "input_size = 784\n",
    "output_size = 10\n",
    "hidden_layer_size = 50\n",
    "\n",
    "model = tf.keras.Sequential([\n",
    "                                tf.keras.layers.Flatten(input_shape = (28,28,1)),\n",
    "                                tf.keras.layers.Dense(hidden_layer_size, activation='sigmoid'),    #Input layer tp hidden layer 1\n",
    "                                tf.keras.layers.Dense(hidden_layer_size, activation='sigmoid'),    #Hidden layer 1 to hidden layer 2\n",
    "                                tf.keras.layers.Dense(output_size, activation='softmax'),    #Hidden layer 2 to Output layer \n",
    "                            ])\n",
    "model.compile(optimizer = 'adam', loss = 'sparse_categorical_crossentropy', metrics = ['accuracy'])\n",
    "\n",
    "NUM_EPOCHS = 5\n",
    "\n",
    "model.fit(  train_data, \n",
    "            epochs = NUM_EPOCHS, \n",
    "            validation_data = (validation_inputs, validation_targets), \n",
    "            verbose = 2 \n",
    "            )"
   ]
  },
  {
   "cell_type": "markdown",
   "metadata": {},
   "source": [
    "### Same problem with change in action function (tanh)\n",
    "\n",
    "Sigmoid the same accuracy but slower training"
   ]
  },
  {
   "cell_type": "code",
   "execution_count": 32,
   "metadata": {},
   "outputs": [
    {
     "name": "stdout",
     "output_type": "stream",
     "text": [
      "Epoch 1/5\n",
      "540/540 - 1s - loss: 0.3935 - accuracy: 0.8919 - val_loss: 0.1899 - val_accuracy: 0.9440 - 1s/epoch - 3ms/step\n",
      "Epoch 2/5\n",
      "540/540 - 1s - loss: 0.1593 - accuracy: 0.9534 - val_loss: 0.1237 - val_accuracy: 0.9648 - 689ms/epoch - 1ms/step\n",
      "Epoch 3/5\n",
      "540/540 - 1s - loss: 0.1222 - accuracy: 0.9640 - val_loss: 0.1115 - val_accuracy: 0.9668 - 686ms/epoch - 1ms/step\n",
      "Epoch 4/5\n",
      "540/540 - 1s - loss: 0.0995 - accuracy: 0.9701 - val_loss: 0.0908 - val_accuracy: 0.9737 - 686ms/epoch - 1ms/step\n",
      "Epoch 5/5\n",
      "540/540 - 1s - loss: 0.0839 - accuracy: 0.9749 - val_loss: 0.0776 - val_accuracy: 0.9772 - 682ms/epoch - 1ms/step\n"
     ]
    },
    {
     "data": {
      "text/plain": [
       "<keras.src.callbacks.History at 0x27fbf060e90>"
      ]
     },
     "execution_count": 32,
     "metadata": {},
     "output_type": "execute_result"
    }
   ],
   "source": [
    "input_size = 784\n",
    "output_size = 10\n",
    "hidden_layer_size = 50\n",
    "\n",
    "model = tf.keras.Sequential([\n",
    "                                tf.keras.layers.Flatten(input_shape = (28,28,1)),\n",
    "                                tf.keras.layers.Dense(hidden_layer_size, activation='relu'),    #Input layer tp hidden layer 1\n",
    "                                tf.keras.layers.Dense(hidden_layer_size, activation='tanh'),    #Hidden layer 1 to hidden layer 2\n",
    "                                tf.keras.layers.Dense(output_size, activation='softmax'),    #Hidden layer 2 to Output layer \n",
    "                            ])\n",
    "model.compile(optimizer = 'adam', loss = 'sparse_categorical_crossentropy', metrics = ['accuracy'])\n",
    "\n",
    "NUM_EPOCHS = 5\n",
    "\n",
    "model.fit(  train_data, \n",
    "            epochs = NUM_EPOCHS, \n",
    "            validation_data = (validation_inputs, validation_targets), \n",
    "            verbose = 2 \n",
    "            )"
   ]
  },
  {
   "cell_type": "markdown",
   "metadata": {},
   "source": [
    "### Same problem with change in BATCH_SIZE (10000)\n",
    "Accuracy is vely low at the first epoch, and the training is slower than the original BATCH_SIZE of 100"
   ]
  },
  {
   "cell_type": "code",
   "execution_count": 38,
   "metadata": {},
   "outputs": [
    {
     "name": "stdout",
     "output_type": "stream",
     "text": [
      "Epoch 1/5\n",
      "6/6 - 1s - loss: 2.1906 - accuracy: 0.2547 - val_loss: 1.8985 - val_accuracy: 0.4823 - 1s/epoch - 174ms/step\n",
      "Epoch 2/5\n",
      "6/6 - 0s - loss: 1.7512 - accuracy: 0.5519 - val_loss: 1.5106 - val_accuracy: 0.6478 - 481ms/epoch - 80ms/step\n",
      "Epoch 3/5\n",
      "6/6 - 1s - loss: 1.3872 - accuracy: 0.6829 - val_loss: 1.2009 - val_accuracy: 0.7210 - 504ms/epoch - 84ms/step\n",
      "Epoch 4/5\n",
      "6/6 - 0s - loss: 1.1075 - accuracy: 0.7425 - val_loss: 0.9676 - val_accuracy: 0.7718 - 485ms/epoch - 81ms/step\n",
      "Epoch 5/5\n",
      "6/6 - 0s - loss: 0.8975 - accuracy: 0.7908 - val_loss: 0.7963 - val_accuracy: 0.8080 - 490ms/epoch - 82ms/step\n"
     ]
    },
    {
     "data": {
      "text/plain": [
       "<keras.src.callbacks.History at 0x27fbf2038d0>"
      ]
     },
     "execution_count": 38,
     "metadata": {},
     "output_type": "execute_result"
    }
   ],
   "source": [
    "BUFFER_SIZE = 10000 #Use at most 10000 samples at a time\n",
    "\n",
    "shuffled_train_and_validation_data = scaled_train_and_validation_data.shuffle(BUFFER_SIZE)\n",
    "\n",
    "validation_data = shuffled_train_and_validation_data.take(num_validation_samples)\n",
    "train_data = shuffled_train_and_validation_data.skip(num_validation_samples)\n",
    "\n",
    "BATCH_SIZE = 10000\n",
    "\n",
    "train_data = train_data.batch(BATCH_SIZE)\n",
    "validation_data = validation_data.batch(num_validation_samples)\n",
    "test_data = scaled_test_data.batch(num_test_samples)\n",
    "\n",
    "validation_inputs, validation_targets = next(iter(validation_data))\n",
    "\n",
    "\n",
    "input_size = 784\n",
    "output_size = 10\n",
    "hidden_layer_size = 50\n",
    "\n",
    "model = tf.keras.Sequential([\n",
    "                                tf.keras.layers.Flatten(input_shape = (28,28,1)),\n",
    "                                tf.keras.layers.Dense(hidden_layer_size, activation='relu'),    #Input layer tp hidden layer 1\n",
    "                                tf.keras.layers.Dense(hidden_layer_size, activation='relu'),    #Hidden layer 1 to hidden layer 2\n",
    "                                tf.keras.layers.Dense(output_size, activation='softmax'),    #Hidden layer 2 to Output layer \n",
    "                            ])\n",
    "model.compile(optimizer = 'adam', loss = 'sparse_categorical_crossentropy', metrics = ['accuracy'])\n",
    "\n",
    "NUM_EPOCHS = 5\n",
    "\n",
    "model.fit(  train_data, \n",
    "            epochs = NUM_EPOCHS, \n",
    "            validation_data = (validation_inputs, validation_targets), \n",
    "            verbose = 2 \n",
    "            )"
   ]
  },
  {
   "cell_type": "markdown",
   "metadata": {},
   "source": [
    "### Same problem with change in learning rate (0.0001)\n",
    "Slower disminution of loss and increasing of accuracy"
   ]
  },
  {
   "cell_type": "code",
   "execution_count": 43,
   "metadata": {},
   "outputs": [
    {
     "name": "stdout",
     "output_type": "stream",
     "text": [
      "Epoch 1/5\n",
      "540/540 - 1s - loss: 1.2250 - accuracy: 0.6792 - val_loss: 0.5726 - val_accuracy: 0.8585 - 1s/epoch - 2ms/step\n",
      "Epoch 2/5\n",
      "540/540 - 1s - loss: 0.4512 - accuracy: 0.8829 - val_loss: 0.3718 - val_accuracy: 0.8985 - 665ms/epoch - 1ms/step\n",
      "Epoch 3/5\n",
      "540/540 - 1s - loss: 0.3426 - accuracy: 0.9061 - val_loss: 0.3052 - val_accuracy: 0.9163 - 668ms/epoch - 1ms/step\n",
      "Epoch 4/5\n",
      "540/540 - 1s - loss: 0.2961 - accuracy: 0.9179 - val_loss: 0.2690 - val_accuracy: 0.9262 - 661ms/epoch - 1ms/step\n",
      "Epoch 5/5\n",
      "540/540 - 1s - loss: 0.2676 - accuracy: 0.9253 - val_loss: 0.2463 - val_accuracy: 0.9313 - 678ms/epoch - 1ms/step\n"
     ]
    },
    {
     "data": {
      "text/plain": [
       "<keras.src.callbacks.History at 0x27fcbbfa690>"
      ]
     },
     "execution_count": 43,
     "metadata": {},
     "output_type": "execute_result"
    }
   ],
   "source": [
    "BUFFER_SIZE = 10000 #Use at most 10000 samples at a time\n",
    "\n",
    "shuffled_train_and_validation_data = scaled_train_and_validation_data.shuffle(BUFFER_SIZE)\n",
    "\n",
    "validation_data = shuffled_train_and_validation_data.take(num_validation_samples)\n",
    "train_data = shuffled_train_and_validation_data.skip(num_validation_samples)\n",
    "\n",
    "BATCH_SIZE = 100\n",
    "\n",
    "train_data = train_data.batch(BATCH_SIZE)\n",
    "validation_data = validation_data.batch(num_validation_samples)\n",
    "test_data = scaled_test_data.batch(num_test_samples)\n",
    "\n",
    "validation_inputs, validation_targets = next(iter(validation_data))\n",
    "\n",
    "\n",
    "input_size = 784\n",
    "output_size = 10\n",
    "hidden_layer_size = 50\n",
    "\n",
    "model = tf.keras.Sequential([\n",
    "                                tf.keras.layers.Flatten(input_shape = (28,28,1)),\n",
    "                                tf.keras.layers.Dense(hidden_layer_size, activation='relu'),    #Input layer tp hidden layer 1\n",
    "                                tf.keras.layers.Dense(hidden_layer_size, activation='relu'),    #Hidden layer 1 to hidden layer 2\n",
    "                                tf.keras.layers.Dense(output_size, activation='softmax'),    #Hidden layer 2 to Output layer \n",
    "                            ])\n",
    "\n",
    "custom_optimizer = tf.keras.optimizers.Adam(learning_rate=0.0001)\n",
    "model.compile(optimizer = custom_optimizer, loss = 'sparse_categorical_crossentropy', metrics = ['accuracy'])\n",
    "\n",
    "NUM_EPOCHS = 5\n",
    "\n",
    "model.fit(  train_data, \n",
    "            epochs = NUM_EPOCHS, \n",
    "            validation_data = (validation_inputs, validation_targets), \n",
    "            verbose = 2 \n",
    "            )"
   ]
  },
  {
   "cell_type": "markdown",
   "metadata": {},
   "source": [
    "### Same problem with change in learning rate (0.02)\n",
    "Oscilatory result for accuracy at the final stages of the training"
   ]
  },
  {
   "cell_type": "code",
   "execution_count": 45,
   "metadata": {},
   "outputs": [
    {
     "name": "stdout",
     "output_type": "stream",
     "text": [
      "Epoch 1/50\n",
      "540/540 - 1s - loss: 0.3012 - accuracy: 0.9098 - val_loss: 0.2113 - val_accuracy: 0.9380 - 1s/epoch - 2ms/step\n",
      "Epoch 2/50\n",
      "540/540 - 1s - loss: 0.1938 - accuracy: 0.9448 - val_loss: 0.1987 - val_accuracy: 0.9430 - 674ms/epoch - 1ms/step\n",
      "Epoch 3/50\n",
      "540/540 - 1s - loss: 0.1792 - accuracy: 0.9495 - val_loss: 0.2154 - val_accuracy: 0.9458 - 669ms/epoch - 1ms/step\n",
      "Epoch 4/50\n",
      "540/540 - 1s - loss: 0.1612 - accuracy: 0.9555 - val_loss: 0.1626 - val_accuracy: 0.9575 - 667ms/epoch - 1ms/step\n",
      "Epoch 5/50\n",
      "540/540 - 1s - loss: 0.1642 - accuracy: 0.9564 - val_loss: 0.1402 - val_accuracy: 0.9652 - 661ms/epoch - 1ms/step\n",
      "Epoch 6/50\n",
      "540/540 - 1s - loss: 0.1463 - accuracy: 0.9600 - val_loss: 0.1649 - val_accuracy: 0.9605 - 669ms/epoch - 1ms/step\n",
      "Epoch 7/50\n",
      "540/540 - 1s - loss: 0.1514 - accuracy: 0.9611 - val_loss: 0.1584 - val_accuracy: 0.9595 - 662ms/epoch - 1ms/step\n",
      "Epoch 8/50\n",
      "540/540 - 1s - loss: 0.1414 - accuracy: 0.9629 - val_loss: 0.1620 - val_accuracy: 0.9602 - 664ms/epoch - 1ms/step\n",
      "Epoch 9/50\n",
      "540/540 - 1s - loss: 0.1340 - accuracy: 0.9652 - val_loss: 0.1516 - val_accuracy: 0.9612 - 663ms/epoch - 1ms/step\n",
      "Epoch 10/50\n",
      "540/540 - 1s - loss: 0.1403 - accuracy: 0.9644 - val_loss: 0.1482 - val_accuracy: 0.9617 - 663ms/epoch - 1ms/step\n",
      "Epoch 11/50\n",
      "540/540 - 1s - loss: 0.1321 - accuracy: 0.9668 - val_loss: 0.1573 - val_accuracy: 0.9602 - 664ms/epoch - 1ms/step\n",
      "Epoch 12/50\n",
      "540/540 - 1s - loss: 0.1238 - accuracy: 0.9688 - val_loss: 0.1570 - val_accuracy: 0.9587 - 666ms/epoch - 1ms/step\n",
      "Epoch 13/50\n",
      "540/540 - 1s - loss: 0.1240 - accuracy: 0.9683 - val_loss: 0.1300 - val_accuracy: 0.9677 - 661ms/epoch - 1ms/step\n",
      "Epoch 14/50\n",
      "540/540 - 1s - loss: 0.1306 - accuracy: 0.9678 - val_loss: 0.1423 - val_accuracy: 0.9662 - 669ms/epoch - 1ms/step\n",
      "Epoch 15/50\n",
      "540/540 - 1s - loss: 0.1225 - accuracy: 0.9706 - val_loss: 0.1244 - val_accuracy: 0.9703 - 668ms/epoch - 1ms/step\n",
      "Epoch 16/50\n",
      "540/540 - 1s - loss: 0.1154 - accuracy: 0.9718 - val_loss: 0.1475 - val_accuracy: 0.9615 - 665ms/epoch - 1ms/step\n",
      "Epoch 17/50\n",
      "540/540 - 1s - loss: 0.1190 - accuracy: 0.9709 - val_loss: 0.1461 - val_accuracy: 0.9663 - 661ms/epoch - 1ms/step\n",
      "Epoch 18/50\n",
      "540/540 - 1s - loss: 0.1158 - accuracy: 0.9723 - val_loss: 0.1614 - val_accuracy: 0.9645 - 669ms/epoch - 1ms/step\n",
      "Epoch 19/50\n",
      "540/540 - 1s - loss: 0.1260 - accuracy: 0.9694 - val_loss: 0.1448 - val_accuracy: 0.9660 - 662ms/epoch - 1ms/step\n",
      "Epoch 20/50\n",
      "540/540 - 1s - loss: 0.1230 - accuracy: 0.9708 - val_loss: 0.1262 - val_accuracy: 0.9690 - 662ms/epoch - 1ms/step\n",
      "Epoch 21/50\n",
      "540/540 - 1s - loss: 0.1115 - accuracy: 0.9741 - val_loss: 0.1346 - val_accuracy: 0.9682 - 664ms/epoch - 1ms/step\n",
      "Epoch 22/50\n",
      "540/540 - 1s - loss: 0.1121 - accuracy: 0.9729 - val_loss: 0.1143 - val_accuracy: 0.9727 - 661ms/epoch - 1ms/step\n",
      "Epoch 23/50\n",
      "540/540 - 1s - loss: 0.1059 - accuracy: 0.9741 - val_loss: 0.1173 - val_accuracy: 0.9710 - 661ms/epoch - 1ms/step\n",
      "Epoch 24/50\n",
      "540/540 - 1s - loss: 0.1195 - accuracy: 0.9723 - val_loss: 0.1536 - val_accuracy: 0.9632 - 674ms/epoch - 1ms/step\n",
      "Epoch 25/50\n",
      "540/540 - 1s - loss: 0.1065 - accuracy: 0.9744 - val_loss: 0.1220 - val_accuracy: 0.9705 - 670ms/epoch - 1ms/step\n",
      "Epoch 26/50\n",
      "540/540 - 1s - loss: 0.1055 - accuracy: 0.9746 - val_loss: 0.1323 - val_accuracy: 0.9715 - 663ms/epoch - 1ms/step\n",
      "Epoch 27/50\n",
      "540/540 - 1s - loss: 0.1082 - accuracy: 0.9747 - val_loss: 0.1261 - val_accuracy: 0.9692 - 665ms/epoch - 1ms/step\n",
      "Epoch 28/50\n",
      "540/540 - 1s - loss: 0.0962 - accuracy: 0.9775 - val_loss: 0.1368 - val_accuracy: 0.9722 - 665ms/epoch - 1ms/step\n",
      "Epoch 29/50\n",
      "540/540 - 1s - loss: 0.1059 - accuracy: 0.9749 - val_loss: 0.1416 - val_accuracy: 0.9680 - 661ms/epoch - 1ms/step\n",
      "Epoch 30/50\n",
      "540/540 - 1s - loss: 0.1052 - accuracy: 0.9760 - val_loss: 0.1739 - val_accuracy: 0.9657 - 665ms/epoch - 1ms/step\n",
      "Epoch 31/50\n",
      "540/540 - 1s - loss: 0.1044 - accuracy: 0.9746 - val_loss: 0.1227 - val_accuracy: 0.9728 - 664ms/epoch - 1ms/step\n",
      "Epoch 32/50\n",
      "540/540 - 1s - loss: 0.1086 - accuracy: 0.9755 - val_loss: 0.1337 - val_accuracy: 0.9723 - 662ms/epoch - 1ms/step\n",
      "Epoch 33/50\n",
      "540/540 - 1s - loss: 0.1029 - accuracy: 0.9759 - val_loss: 0.1914 - val_accuracy: 0.9642 - 668ms/epoch - 1ms/step\n",
      "Epoch 34/50\n",
      "540/540 - 1s - loss: 0.1020 - accuracy: 0.9761 - val_loss: 0.1149 - val_accuracy: 0.9737 - 666ms/epoch - 1ms/step\n",
      "Epoch 35/50\n",
      "540/540 - 1s - loss: 0.1028 - accuracy: 0.9757 - val_loss: 0.1786 - val_accuracy: 0.9618 - 664ms/epoch - 1ms/step\n",
      "Epoch 36/50\n",
      "540/540 - 1s - loss: 0.1097 - accuracy: 0.9746 - val_loss: 0.1792 - val_accuracy: 0.9628 - 664ms/epoch - 1ms/step\n",
      "Epoch 37/50\n",
      "540/540 - 1s - loss: 0.1175 - accuracy: 0.9748 - val_loss: 0.1421 - val_accuracy: 0.9715 - 662ms/epoch - 1ms/step\n",
      "Epoch 38/50\n",
      "540/540 - 1s - loss: 0.0955 - accuracy: 0.9770 - val_loss: 0.1095 - val_accuracy: 0.9760 - 665ms/epoch - 1ms/step\n",
      "Epoch 39/50\n",
      "540/540 - 1s - loss: 0.1153 - accuracy: 0.9738 - val_loss: 0.1906 - val_accuracy: 0.9612 - 666ms/epoch - 1ms/step\n",
      "Epoch 40/50\n",
      "540/540 - 1s - loss: 0.1062 - accuracy: 0.9752 - val_loss: 0.1014 - val_accuracy: 0.9760 - 666ms/epoch - 1ms/step\n",
      "Epoch 41/50\n",
      "540/540 - 1s - loss: 0.1067 - accuracy: 0.9761 - val_loss: 0.1377 - val_accuracy: 0.9695 - 664ms/epoch - 1ms/step\n",
      "Epoch 42/50\n",
      "540/540 - 1s - loss: 0.1059 - accuracy: 0.9761 - val_loss: 0.1240 - val_accuracy: 0.9735 - 674ms/epoch - 1ms/step\n",
      "Epoch 43/50\n",
      "540/540 - 1s - loss: 0.0958 - accuracy: 0.9774 - val_loss: 0.1454 - val_accuracy: 0.9715 - 663ms/epoch - 1ms/step\n",
      "Epoch 44/50\n",
      "540/540 - 1s - loss: 0.1001 - accuracy: 0.9770 - val_loss: 0.1409 - val_accuracy: 0.9700 - 664ms/epoch - 1ms/step\n",
      "Epoch 45/50\n",
      "540/540 - 1s - loss: 0.1072 - accuracy: 0.9749 - val_loss: 0.1351 - val_accuracy: 0.9728 - 660ms/epoch - 1ms/step\n",
      "Epoch 46/50\n",
      "540/540 - 1s - loss: 0.1034 - accuracy: 0.9760 - val_loss: 0.1360 - val_accuracy: 0.9667 - 657ms/epoch - 1ms/step\n",
      "Epoch 47/50\n",
      "540/540 - 1s - loss: 0.1070 - accuracy: 0.9764 - val_loss: 0.1747 - val_accuracy: 0.9678 - 658ms/epoch - 1ms/step\n",
      "Epoch 48/50\n",
      "540/540 - 1s - loss: 0.1029 - accuracy: 0.9765 - val_loss: 0.1134 - val_accuracy: 0.9743 - 662ms/epoch - 1ms/step\n",
      "Epoch 49/50\n",
      "540/540 - 1s - loss: 0.0974 - accuracy: 0.9768 - val_loss: 0.1197 - val_accuracy: 0.9732 - 659ms/epoch - 1ms/step\n",
      "Epoch 50/50\n",
      "540/540 - 1s - loss: 0.1070 - accuracy: 0.9775 - val_loss: 0.1086 - val_accuracy: 0.9740 - 660ms/epoch - 1ms/step\n"
     ]
    },
    {
     "data": {
      "text/plain": [
       "<keras.src.callbacks.History at 0x27fd2d3e690>"
      ]
     },
     "execution_count": 45,
     "metadata": {},
     "output_type": "execute_result"
    }
   ],
   "source": [
    "BUFFER_SIZE = 10000 #Use at most 10000 samples at a time\n",
    "\n",
    "shuffled_train_and_validation_data = scaled_train_and_validation_data.shuffle(BUFFER_SIZE)\n",
    "\n",
    "validation_data = shuffled_train_and_validation_data.take(num_validation_samples)\n",
    "train_data = shuffled_train_and_validation_data.skip(num_validation_samples)\n",
    "\n",
    "BATCH_SIZE = 100\n",
    "\n",
    "train_data = train_data.batch(BATCH_SIZE)\n",
    "validation_data = validation_data.batch(num_validation_samples)\n",
    "test_data = scaled_test_data.batch(num_test_samples)\n",
    "\n",
    "validation_inputs, validation_targets = next(iter(validation_data))\n",
    "\n",
    "\n",
    "input_size = 784\n",
    "output_size = 10\n",
    "hidden_layer_size = 50\n",
    "\n",
    "model = tf.keras.Sequential([\n",
    "                                tf.keras.layers.Flatten(input_shape = (28,28,1)),\n",
    "                                tf.keras.layers.Dense(hidden_layer_size, activation='relu'),    #Input layer tp hidden layer 1\n",
    "                                tf.keras.layers.Dense(hidden_layer_size, activation='relu'),    #Hidden layer 1 to hidden layer 2\n",
    "                                tf.keras.layers.Dense(output_size, activation='softmax'),    #Hidden layer 2 to Output layer \n",
    "                            ])\n",
    "\n",
    "custom_optimizer = tf.keras.optimizers.Adam(learning_rate=0.02)\n",
    "model.compile(optimizer = custom_optimizer, loss = 'sparse_categorical_crossentropy', metrics = ['accuracy'])\n",
    "\n",
    "NUM_EPOCHS = 50\n",
    "\n",
    "model.fit(  train_data, \n",
    "            epochs = NUM_EPOCHS, \n",
    "            validation_data = (validation_inputs, validation_targets), \n",
    "            verbose = 2 \n",
    "            )"
   ]
  },
  {
   "cell_type": "code",
   "execution_count": 67,
   "metadata": {},
   "outputs": [
    {
     "name": "stdout",
     "output_type": "stream",
     "text": [
      "dict_keys(['loss', 'accuracy', 'val_loss', 'val_accuracy'])\n"
     ]
    },
    {
     "data": {
      "image/png": "[encoded data removed]",
      "text/plain": [
       "<Figure size 640x480 with 1 Axes>"
      ]
     },
     "metadata": {},
     "output_type": "display_data"
    },
    {
     "data": {
      "image/png": "[encoded data removed]",
      "text/plain": [
       "<Figure size 640x480 with 1 Axes>"
      ]
     },
     "metadata": {},
     "output_type": "display_data"
    }
   ],
   "source": [
    "print(history.history.keys())\n",
    "\n",
    "# summarize history for accuracy\n",
    "plt.plot(history.history['accuracy'])\n",
    "plt.plot(history.history['val_accuracy'])\n",
    "plt.title('model accuracy')\n",
    "plt.ylabel('accuracy')\n",
    "plt.xlabel('epoch')\n",
    "plt.legend(['train', 'validation'], loc='upper left')\n",
    "plt.show()\n",
    "# summarize history for loss\n",
    "plt.plot(history.history['loss'])\n",
    "plt.plot(history.history['val_loss'])\n",
    "plt.title('model loss')\n",
    "plt.ylabel('loss')\n",
    "plt.xlabel('epoch')\n",
    "plt.legend(['train', 'validation'], loc='upper left')\n",
    "plt.show()"
   ]
  },
  {
   "cell_type": "markdown",
   "metadata": {},
   "source": [
    "## Testing the model"
   ]
  },
  {
   "cell_type": "code",
   "execution_count": 68,
   "metadata": {},
   "outputs": [
    {
     "name": "stdout",
     "output_type": "stream",
     "text": [
      "1/1 [==============================] - 0s 82ms/step - loss: 0.0902 - accuracy: 0.9790\n",
      "Test loss: 0.09. Test accuracy: 97.90\n"
     ]
    }
   ],
   "source": [
    "test_loss, test_accuracy = model.evaluate(test_data)\n",
    "\n",
    "print(\"Test loss: {0:.2f}. Test accuracy: {1:.2f}\".format(test_loss, test_accuracy*100.))"
   ]
  }
 ],
 "metadata": {
  "kernelspec": {
   "display_name": "Python 3",
   "language": "python",
   "name": "python3"
  },
  "language_info": {
   "codemirror_mode": {
    "name": "ipython",
    "version": 3
   },
   "file_extension": ".py",
   "mimetype": "text/x-python",
   "name": "python",
   "nbconvert_exporter": "python",
   "pygments_lexer": "ipython3",
   "version": "3.11.4"
  },
  "orig_nbformat": 4,
  "vscode": {
   "interpreter": {
    "hash": "96cfe203e9447c5a24b4e9889d7cd19a7ac0b3379138290f54f8d60661b21395"
   }
  }
 },
 "nbformat": 4,
 "nbformat_minor": 2
}
